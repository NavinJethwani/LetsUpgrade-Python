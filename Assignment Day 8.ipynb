{
 "cells": [
  {
   "cell_type": "markdown",
   "metadata": {},
   "source": [
    "# Assignment Day 8 "
   ]
  },
  {
   "cell_type": "markdown",
   "metadata": {},
   "source": [
    "# Q1 Write the decorator function to take input for any kind of function you want to build. "
   ]
  },
  {
   "cell_type": "code",
   "execution_count": 3,
   "metadata": {},
   "outputs": [
    {
     "name": "stdout",
     "output_type": "stream",
     "text": [
      "Enter the first number-1\n",
      "Enter the second number-6\n",
      "Enter the range of fibonocci series-7\n",
      "Fibonocci series is\n",
      "1 6 7 13 20 33 53 86 "
     ]
    }
   ],
   "source": [
    "def inputfunction(functionality_function):\n",
    "    def wrap_function():\n",
    "        a=int(input('Enter the first number-'))\n",
    "        b=int(input('Enter the second number-'))\n",
    "        functionality_function(a,b)\n",
    "    return wrap_function    \n",
    "\n",
    "@inputfunction\n",
    "def fibonacci(a,b):\n",
    "    count=0\n",
    "    nterms=int(input('Enter the range of fibonocci series-'))\n",
    "    if nterms<=0:\n",
    "        print('Enter the positive number')\n",
    "    elif nterms==1:\n",
    "        print('Fibonocci series is')\n",
    "        print(a)\n",
    "    else:\n",
    "        print('Fibonocci series is')\n",
    "        while count<=nterms:\n",
    "            print(a,end=' ')\n",
    "            f=a+b\n",
    "            a=b\n",
    "            b=f\n",
    "            count+=1\n",
    "fibonacci()"
   ]
  },
  {
   "cell_type": "code",
   "execution_count": 6,
   "metadata": {},
   "outputs": [
    {
     "name": "stdout",
     "output_type": "stream",
     "text": [
      "Enter the first number-3\n",
      "Enter the second number-7\n",
      "10\n"
     ]
    }
   ],
   "source": [
    "@inputfunction\n",
    "def addition(a,b):\n",
    "    print(a+b)\n",
    "addition()"
   ]
  },
  {
   "cell_type": "markdown",
   "metadata": {},
   "source": [
    "# Q2  Develop a python program to open a file in read only mode and try to write in it and handle exception using error handling."
   ]
  },
  {
   "cell_type": "code",
   "execution_count": 7,
   "metadata": {},
   "outputs": [
    {
     "name": "stdout",
     "output_type": "stream",
     "text": [
      "Writing Example.py\n"
     ]
    }
   ],
   "source": [
    "%%writefile Example.py\n",
    "\n",
    "print(\"This is an example file\")"
   ]
  },
  {
   "cell_type": "code",
   "execution_count": 8,
   "metadata": {},
   "outputs": [
    {
     "ename": "UnsupportedOperation",
     "evalue": "not writable",
     "output_type": "error",
     "traceback": [
      "\u001b[1;31m---------------------------------------------------------------------------\u001b[0m",
      "\u001b[1;31mUnsupportedOperation\u001b[0m                      Traceback (most recent call last)",
      "\u001b[1;32m<ipython-input-8-26160a5e655c>\u001b[0m in \u001b[0;36m<module>\u001b[1;34m\u001b[0m\n\u001b[0;32m      1\u001b[0m \u001b[0mfile\u001b[0m \u001b[1;33m=\u001b[0m \u001b[0mopen\u001b[0m\u001b[1;33m(\u001b[0m\u001b[1;34m\"Example.py\"\u001b[0m\u001b[1;33m,\u001b[0m\u001b[1;34m\"r\"\u001b[0m\u001b[1;33m)\u001b[0m\u001b[1;33m\u001b[0m\u001b[1;33m\u001b[0m\u001b[0m\n\u001b[1;32m----> 2\u001b[1;33m \u001b[0mfile\u001b[0m \u001b[1;33m=\u001b[0m \u001b[0mfile\u001b[0m\u001b[1;33m.\u001b[0m\u001b[0mwrite\u001b[0m\u001b[1;33m(\u001b[0m\u001b[1;34m\"hello\"\u001b[0m\u001b[1;33m)\u001b[0m\u001b[1;33m\u001b[0m\u001b[1;33m\u001b[0m\u001b[0m\n\u001b[0m",
      "\u001b[1;31mUnsupportedOperation\u001b[0m: not writable"
     ]
    }
   ],
   "source": [
    "file = open(\"Example.py\",\"r\")\n",
    "file = file.write(\"hello\")"
   ]
  },
  {
   "cell_type": "code",
   "execution_count": 10,
   "metadata": {},
   "outputs": [
    {
     "name": "stdout",
     "output_type": "stream",
     "text": [
      "hello\n",
      "not writable\n"
     ]
    }
   ],
   "source": [
    "try:\n",
    "    filew = file.write(input())\n",
    "    print(filew)\n",
    "except:\n",
    "    print(\"not writable\")"
   ]
  },
  {
   "cell_type": "code",
   "execution_count": null,
   "metadata": {},
   "outputs": [],
   "source": []
  }
 ],
 "metadata": {
  "kernelspec": {
   "display_name": "Python 3",
   "language": "python",
   "name": "python3"
  },
  "language_info": {
   "codemirror_mode": {
    "name": "ipython",
    "version": 3
   },
   "file_extension": ".py",
   "mimetype": "text/x-python",
   "name": "python",
   "nbconvert_exporter": "python",
   "pygments_lexer": "ipython3",
   "version": "3.8.3"
  }
 },
 "nbformat": 4,
 "nbformat_minor": 4
}

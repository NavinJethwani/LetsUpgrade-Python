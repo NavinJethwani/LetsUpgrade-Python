{
 "cells": [
  {
   "cell_type": "code",
   "execution_count": 13,
   "metadata": {},
   "outputs": [
    {
     "name": "stdout",
     "output_type": "stream",
     "text": [
      "Welcome Navin\n",
      "Enter amount to be Deposited: 50000\n",
      "\n",
      " Amount Deposited: 50000.0\n",
      "Enter amount to be Withdrawn: 35000\n",
      "\n",
      " You Withdrew: 35000.0\n",
      "\n",
      " Net Available Balance= 15000.0\n"
     ]
    }
   ],
   "source": [
    "class Bank_Account: \n",
    "\tdef __init__(self): \n",
    "\t\tself.owner=\"Navin\"\n",
    "\t\tself.balance=0\n",
    "\t\tprint(\"Welcome \"+self.owner)\n",
    "\tdef deposit(self): \n",
    "\t\tamount=float(input(\"Enter amount to be Deposited: \")) \n",
    "\t\tself.balance += amount \n",
    "\t\tprint(\"\\n Amount Deposited:\",amount) \n",
    "\tdef withdraw(self): \n",
    "\t\tamount = float(input(\"Enter amount to be Withdrawn: \")) \n",
    "\t\tif self.balance>=amount: \n",
    "\t\t\tself.balance-=amount \n",
    "\t\t\tprint(\"\\n You Withdrew:\", amount) \n",
    "\t\telse: \n",
    "\t\t\tprint(\"\\n Insufficient balance \")\n",
    "\tdef display(self): \n",
    "\t\tprint(\"\\n Net Available Balance=\",self.balance)\n",
    "s = Bank_Account()\n",
    "s.deposit() \n",
    "s.withdraw() \n",
    "s.display() "
   ]
  },
  {
   "cell_type": "code",
   "execution_count": 20,
   "metadata": {},
   "outputs": [
    {
     "name": "stdout",
     "output_type": "stream",
     "text": [
      "Volume Of Cone :  314.15926535897927\n",
      "Surface Area Of Cone :Base , Side -  (78.53981633974483, 204.20352248333654)\n"
     ]
    }
   ],
   "source": [
    "class cone:\n",
    "    import math \n",
    "    pi = math.pi \n",
    "    def volume(r, h): \n",
    "        return (1 / 3) * pi * r * r * h\n",
    "    def surfacearea(r, h): \n",
    "        base=pi*r*r\n",
    "        side=pi*r*math.sqrt(r*r+h*h)\n",
    "        return base,side\n",
    "    radius = float(5) \n",
    "    height = float(12) \n",
    "    print( \"Volume Of Cone : \", volume(radius, height) ) \n",
    "    print( \"Surface Area Of Cone :Base , Side - \", surfacearea(radius, height) )"
   ]
  },
  {
   "cell_type": "code",
   "execution_count": null,
   "metadata": {},
   "outputs": [],
   "source": []
  }
 ],
 "metadata": {
  "kernelspec": {
   "display_name": "Python 3",
   "language": "python",
   "name": "python3"
  },
  "language_info": {
   "codemirror_mode": {
    "name": "ipython",
    "version": 3
   },
   "file_extension": ".py",
   "mimetype": "text/x-python",
   "name": "python",
   "nbconvert_exporter": "python",
   "pygments_lexer": "ipython3",
   "version": "3.8.3"
  }
 },
 "nbformat": 4,
 "nbformat_minor": 4
}

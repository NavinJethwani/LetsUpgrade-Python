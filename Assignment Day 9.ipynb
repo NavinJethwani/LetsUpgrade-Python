{
 "cells": [
  {
   "cell_type": "code",
   "execution_count": 1,
   "metadata": {},
   "outputs": [
    {
     "name": "stdout",
     "output_type": "stream",
     "text": [
      "Requirement already satisfied: pylint in f:\\anaconda_python\\lib\\site-packages (2.5.3)\n",
      "Requirement already satisfied: astroid<=2.5,>=2.4.0 in f:\\anaconda_python\\lib\\site-packages (from pylint) (2.4.2)\n",
      "Requirement already satisfied: isort<5,>=4.2.5 in f:\\anaconda_python\\lib\\site-packages (from pylint) (4.3.21)\n",
      "Requirement already satisfied: toml>=0.7.1 in f:\\anaconda_python\\lib\\site-packages (from pylint) (0.10.1)\n",
      "Requirement already satisfied: mccabe<0.7,>=0.6 in f:\\anaconda_python\\lib\\site-packages (from pylint) (0.6.1)\n",
      "Requirement already satisfied: colorama; sys_platform == \"win32\" in f:\\anaconda_python\\lib\\site-packages (from pylint) (0.4.3)\n",
      "Requirement already satisfied: lazy-object-proxy==1.4.* in f:\\anaconda_python\\lib\\site-packages (from astroid<=2.5,>=2.4.0->pylint) (1.4.3)\n",
      "Requirement already satisfied: wrapt~=1.11 in f:\\anaconda_python\\lib\\site-packages (from astroid<=2.5,>=2.4.0->pylint) (1.11.2)\n",
      "Requirement already satisfied: six~=1.12 in f:\\anaconda_python\\lib\\site-packages (from astroid<=2.5,>=2.4.0->pylint) (1.15.0)\n"
     ]
    }
   ],
   "source": [
    "! pip install pylint"
   ]
  },
  {
   "cell_type": "code",
   "execution_count": 47,
   "metadata": {},
   "outputs": [
    {
     "name": "stdout",
     "output_type": "stream",
     "text": [
      "Overwriting primeno.py\n"
     ]
    }
   ],
   "source": [
    "%%writefile primeno.py\n",
    "'''\n",
    "Hey this is a Simple prime Fuction code\n",
    "'''\n",
    "def prime(num1):\n",
    "    '''\n",
    "    Hey this is a Simple prime Fuction\n",
    "    '''\n",
    "    flag = 0\n",
    "    for i in range(2, num1-1):\n",
    "        if num1%i == 0:\n",
    "            flag = 1\n",
    "            break\n",
    "    if flag == 0 and num1 != 1:\n",
    "        return num1\n",
    "    else:\n",
    "        return 0"
   ]
  },
  {
   "cell_type": "code",
   "execution_count": 48,
   "metadata": {},
   "outputs": [
    {
     "name": "stdout",
     "output_type": "stream",
     "text": [
      "************* Module primeno\n",
      "primeno.py:13:4: R1705: Unnecessary \"else\" after \"return\" (no-else-return)\n",
      "\n",
      "------------------------------------------------------------------\n",
      "\n",
      "Your code has been rated at 8.89/10 (previous run: 7.78/10, +1.11)\n",
      "\n",
      "\n",
      "\n"
     ]
    }
   ],
   "source": [
    "! pylint \"primeno.py\""
   ]
  },
  {
   "cell_type": "code",
   "execution_count": 49,
   "metadata": {},
   "outputs": [
    {
     "name": "stdout",
     "output_type": "stream",
     "text": [
      "Overwriting testprimeno.py\n"
     ]
    }
   ],
   "source": [
    "%%writefile testprimeno.py\n",
    "\n",
    "import unittest\n",
    "import primeno\n",
    "\n",
    "class testPrime(unittest.TestCase):\n",
    "    def testprimeno(self):\n",
    "        abc = 2\n",
    "        result = primeno.prime(abc)\n",
    "        self.assertEqual(result,2)  \n",
    "        \n",
    "    def testingMultipleWords(self):\n",
    "        abc = 1\n",
    "        result = primeno.prime(abc)\n",
    "        self.assertEqual(result,0)\n",
    "\n",
    "if __name__ == \"__main__\":\n",
    "    unittest.main()"
   ]
  },
  {
   "cell_type": "code",
   "execution_count": 50,
   "metadata": {},
   "outputs": [
    {
     "name": "stderr",
     "output_type": "stream",
     "text": [
      "..\n",
      "----------------------------------------------------------------------\n",
      "Ran 2 tests in 0.001s\n",
      "\n",
      "OK\n"
     ]
    }
   ],
   "source": [
    "! python testprimeno.py"
   ]
  },
  {
   "cell_type": "code",
   "execution_count": null,
   "metadata": {},
   "outputs": [],
   "source": []
  }
 ],
 "metadata": {
  "kernelspec": {
   "display_name": "Python 3",
   "language": "python",
   "name": "python3"
  },
  "language_info": {
   "codemirror_mode": {
    "name": "ipython",
    "version": 3
   },
   "file_extension": ".py",
   "mimetype": "text/x-python",
   "name": "python",
   "nbconvert_exporter": "python",
   "pygments_lexer": "ipython3",
   "version": "3.8.3"
  }
 },
 "nbformat": 4,
 "nbformat_minor": 4
}
